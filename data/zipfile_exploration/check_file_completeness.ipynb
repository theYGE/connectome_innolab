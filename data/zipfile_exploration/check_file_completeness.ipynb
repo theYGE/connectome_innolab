{
 "cells": [
  {
   "cell_type": "code",
   "execution_count": 45,
   "metadata": {},
   "outputs": [],
   "source": [
    "import pandas as pd"
   ]
  },
  {
   "cell_type": "code",
   "execution_count": 46,
   "metadata": {},
   "outputs": [],
   "source": [
    "# the complete list provided by Boris\n",
    "ukb_df = pd.read_excel(\"../zipfile_data/rs_ukb uverview_downloads.xlsx\", header=None)\n",
    "ukb_df.rename(columns={0:\"filename\"}, inplace=True)\n",
    "\n",
    "# the list of downloaded files in Anydesk\n",
    "anydesk_df = pd.read_csv(\"../zipfile_data/all_zipfiles.csv\", index_col=0)"
   ]
  },
  {
   "cell_type": "code",
   "execution_count": 49,
   "metadata": {},
   "outputs": [],
   "source": [
    "def extract_file_info(file_df):\n",
    "    \"\"\"_summary_\n",
    "    Args:\n",
    "        file_df (dataframe): dataframe of original filenames\n",
    "\n",
    "    Returns:\n",
    "        list: filenames with extracted information \n",
    "    \"\"\"\n",
    "    file_df.dropna(axis=0, inplace=True, subset=[\"filename\"])\n",
    "    file_df[\"files\"] = file_df[\"filename\"].str.split(pat=\".\", expand=True)[0]\n",
    "    \n",
    "    # extract info that identifies a file\n",
    "    file_df[[\"id_1\", \"id_2\"]] = file_df[\"files\"].str.split(pat=\"_\", expand=True)[[0,2]]\n",
    "    file_df[\"id\"] = file_df[\"id_1\"] + \"_\" + file_df[\"id_2\"]\n",
    "    file_list = list(file_df[\"id\"].unique())\n",
    "    return file_list"
   ]
  },
  {
   "cell_type": "code",
   "execution_count": 50,
   "metadata": {},
   "outputs": [],
   "source": [
    "ukb_list = extract_file_info(ukb_df)\n",
    "anydesk_list = extract_file_info(anydesk_df)"
   ]
  },
  {
   "cell_type": "code",
   "execution_count": 51,
   "metadata": {},
   "outputs": [
    {
     "name": "stdout",
     "output_type": "stream",
     "text": [
      "There are 22100 unique files from Anydesk folder\n",
      "There are 28080 unique files from the excel sheet\n"
     ]
    }
   ],
   "source": [
    "print(\"There are {} unique files from Anydesk folder\".format(len(anydesk_list)))\n",
    "print(\"There are {} unique files from the excel sheet\".format(len(ukb_list)))\n"
   ]
  },
  {
   "cell_type": "code",
   "execution_count": 52,
   "metadata": {
    "pycharm": {
     "name": "#%%\n"
    }
   },
   "outputs": [
    {
     "name": "stdout",
     "output_type": "stream",
     "text": [
      "['1000219_2', '1000238_2', '1000305_2', '1000351_2', '1000351_3', '1000398_2', '1000521_2', '1000828_2', '1000941_2', '1001173_2']\n",
      "['1003540_2', '1009232_2', '1012016_2', '1022350_2', '1025337_2', '1029084_2', '1032252_2', '1037629_2', '1046250_2', '1047312_2']\n"
     ]
    }
   ],
   "source": [
    "print(ukb_list[:10])\n",
    "print(anydesk_list[:10])"
   ]
  },
  {
   "cell_type": "code",
   "execution_count": 56,
   "metadata": {
    "pycharm": {
     "name": "#%%\n"
    }
   },
   "outputs": [
    {
     "name": "stdout",
     "output_type": "stream",
     "text": [
      "Number of missing files: 5996\n"
     ]
    }
   ],
   "source": [
    "# save the missing files to csv\n",
    "missing_files = list(set(ukb_list) - set(anydesk_list))\n",
    "print(\"Number of missing files: {}\".format(len(missing_files)))"
   ]
  },
  {
   "cell_type": "code",
   "execution_count": 55,
   "metadata": {
    "pycharm": {
     "name": "#%%\n"
    }
   },
   "outputs": [],
   "source": [
    "pd.DataFrame(missing_files, columns=[\"missing_files\"]).to_csv(\"../Data/missing_files.csv\")"
   ]
  },
  {
   "cell_type": "code",
   "execution_count": 19,
   "metadata": {
    "pycharm": {
     "name": "#%%\n"
    }
   },
   "outputs": [
    {
     "data": {
      "text/plain": [
       "16"
      ]
     },
     "execution_count": 19,
     "metadata": {},
     "output_type": "execute_result"
    }
   ],
   "source": [
    "# len(list(set(anydesk_list) - set(ukb_list)))"
   ]
  },
  {
   "cell_type": "code",
   "execution_count": 63,
   "metadata": {
    "pycharm": {
     "name": "#%%\n"
    }
   },
   "outputs": [
    {
     "data": {
      "text/plain": [
       "22084"
      ]
     },
     "execution_count": 63,
     "metadata": {},
     "output_type": "execute_result"
    }
   ],
   "source": [
    "# len(list(set(ukb_list) & set(anydesk_list)))"
   ]
  },
  {
   "cell_type": "code",
   "execution_count": null,
   "metadata": {
    "pycharm": {
     "name": "#%%\n"
    }
   },
   "outputs": [],
   "source": []
  }
 ],
 "metadata": {
  "kernelspec": {
   "display_name": "Python 3.9.13 64-bit",
   "language": "python",
   "name": "python3"
  },
  "language_info": {
   "codemirror_mode": {
    "name": "ipython",
    "version": 3
   },
   "file_extension": ".py",
   "mimetype": "text/x-python",
   "name": "python",
   "nbconvert_exporter": "python",
   "pygments_lexer": "ipython3",
   "version": "3.9.13 (tags/v3.9.13:6de2ca5, May 17 2022, 16:36:42) [MSC v.1929 64 bit (AMD64)]"
  },
  "orig_nbformat": 4,
  "vscode": {
   "interpreter": {
    "hash": "df25935b99ec2a4cd8586e5ce280559874741e178bd8136094667422bad848bb"
   }
  }
 },
 "nbformat": 4,
 "nbformat_minor": 2
}