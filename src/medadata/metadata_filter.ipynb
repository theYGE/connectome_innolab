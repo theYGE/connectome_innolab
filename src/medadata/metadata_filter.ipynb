{
 "cells": [
  {
   "cell_type": "code",
   "execution_count": null,
   "metadata": {},
   "outputs": [],
   "source": [
    "import pandas as pd\n",
    "import numpy as np\n",
    "import os\n",
    "import sys\n",
    "import pickle"
   ]
  },
  {
   "cell_type": "code",
   "execution_count": null,
   "metadata": {},
   "outputs": [],
   "source": [
    "# Features for modelling part:\n",
    "# \"53-0.0\": first day of attending \n",
    "# 31-0.0: gender\n",
    "# 34-0.0: year of birth\n",
    "# 845-1.0\t845-2.0: age completed full time education\n",
    "# 6138: QUALIFICATION"
   ]
  },
  {
   "cell_type": "code",
   "execution_count": null,
   "metadata": {},
   "outputs": [],
   "source": [
    "root_path = os.path.join(os.path.dirname(os.path.dirname(os.getcwd())))"
   ]
  },
  {
   "cell_type": "code",
   "execution_count": null,
   "metadata": {},
   "outputs": [],
   "source": [
    "# read metadata\n",
    "with open(os.path.join(root_path, \"data\\\\metadata\\\\target_col_idx.pickle\"), 'rb') as f:\n",
    "    target_col_idx = pickle.load(f)\n",
    "target_col_idx.append(\"eid\")\n",
    "metadata = pd.read_csv(os.path.join(root_path, \"data/metadata/metadata_subset.csv\"), usecols=target_col_idx)\n",
    "# metadata = pd.read_csv(os.path.join(root_path, \"data/metadata/metadata_subset.csv\"))\n",
    "metadata.set_index(\"eid\", inplace=True)"
   ]
  },
  {
   "cell_type": "code",
   "execution_count": null,
   "metadata": {},
   "outputs": [],
   "source": [
    "# read the icd10 disease that we use to exclude the participants\n",
    "target = pd.read_csv(os.path.join(root_path, \"data/metadata/CNS_icd10_11_merge_full.csv\"), encoding= 'unicode_escape',\n",
    "                    usecols=[\"icd10Code\", \"icd10Title\"])\n",
    "target.dropna(axis=0, inplace=True)\n",
    "target_list = list(target[\"icd10Code\"].apply(lambda x: x.replace(\".\", \"\")))\n",
    "target_block_list = [i for i in target_list if \"-\" in i] #block disease\n",
    "target_single_list = list(set(target_list) - set(target_block_list))\n",
    "print(len(target_block_list))\n",
    "print(len(target_single_list))"
   ]
  },
  {
   "cell_type": "code",
   "execution_count": null,
   "metadata": {},
   "outputs": [],
   "source": [
    "# read metadata coding, and get the whole list of icd10 that UKbiobank used.\n",
    "data_coding = pd.read_csv(os.path.join(root_path, \"data/metadata/Codings.csv\"), \n",
    "                          encoding='latin-1')\n",
    "# data_dict = pd.read_csv(os.path.join(root_path, \"data/metadata/Data_Dictionary_Showcase.csv\"))\n",
    "\n",
    "data_coding = data_coding[data_coding[\"Coding\"] == 19] # the coding of icd10 fields is 19\n",
    "icd_diseases = list(data_coding.Value)\n",
    "icd_diseases = [i.replace(\"Block \", \"\") if \"Block\" in i else i for i in icd_diseases]\n",
    "icd_block_list = [i for i in icd_diseases if \"-\" in i]\n",
    "icd_single_list = list(set(icd_diseases) - set(icd_block_list))\n",
    "print(len(icd_block_list))\n",
    "print(len(icd_single_list))"
   ]
  },
  {
   "cell_type": "code",
   "execution_count": null,
   "metadata": {},
   "outputs": [],
   "source": [
    "# delete the icd entries that are not included in UKbiobank icd10.\n",
    "\n",
    "# single disease\n",
    "to_be_del = [i for i in target_single_list if i not in icd_single_list]\n",
    "target_single_list = list(set(target_single_list) - set(to_be_del))\n",
    "\n",
    "# block disease\n",
    "to_be_del = [i for i in target_block_list if i not in icd_block_list]\n",
    "target_block_list = list(set(target_block_list) - set(to_be_del))\n",
    "\n",
    "# double check\n",
    "assert len([i for i in target_single_list if i not in icd_single_list]) == 0\n",
    "assert len([i for i in target_block_list if i not in icd_block_list]) == 0"
   ]
  },
  {
   "cell_type": "code",
   "execution_count": null,
   "metadata": {},
   "outputs": [],
   "source": [
    "# add all diseases start with \"C: 'C00-C97', a special case. \n",
    "to_be_added = [i for i in icd_block_list if \"C\" in i]\n",
    "target_block_list.extend(to_be_added)\n",
    "target_block_list = [\"Block \"+i for i in target_block_list]"
   ]
  },
  {
   "cell_type": "code",
   "execution_count": null,
   "metadata": {},
   "outputs": [],
   "source": [
    "# combine the two in a list.\n",
    "full_target_list = []\n",
    "full_target_list.extend(target_block_list)\n",
    "full_target_list.extend(target_single_list)\n",
    "print(len(full_target_list))"
   ]
  },
  {
   "cell_type": "code",
   "execution_count": null,
   "metadata": {},
   "outputs": [],
   "source": [
    "# still a few special case here:\n",
    "for i in [\"I60\", \"I61\", \"I63\", \"I64\", \"G35\", \"G20\", \"F00\", \"F01\", \"F02\", \"F03\", \n",
    "           \"G30\", \"G31\", \"G32\", \"Block G30-G32\", \"G36\", \"G37\"]:\n",
    "    if i not in full_target_list:\n",
    "        print(i)\n",
    "        full_target_list.append(i)\n",
    "\n",
    "# from Boris' screenshot: Additionally these developmental disorders\n",
    "extra_disease = [\"E700\",\"E701\",\"E720\",\"E750\",\"E752\",\"E762\",\"E763\",\"E830\",\"E720\",\"F70\",\"R620\",\"F71\",\"F819\",\"F79\",\"R625\"\n",
    "\"G318\",\"F82\",\"F840\",\"F88\",\"F849\",\"R625\",\"Q992\",\"F89\",\"F901\",\"F802\",\"F809\",\"F952\",\"R471\"]\n",
    "full_target_list.extend(extra_disease)\n",
    "full_target_list = list(set(full_target_list))\n",
    "len(full_target_list)"
   ]
  },
  {
   "cell_type": "code",
   "execution_count": null,
   "metadata": {},
   "outputs": [],
   "source": [
    "# the final disease dictionary!\n",
    "disease_dict = { \n",
    "# FieldID: Coding\n",
    " \"20002\": [\"1081.0\", \"1086.0\", \"1491.0\", \"1583.0\", \"1261.0\", \"1262.0\", \"1263.0\", \"1397.0\"], \n",
    " \"41203_41205\": [\"430.0\", \"431.0\", \"434.0\", \"436.0\", \"340.0\", \"332.0\", \"290.0\", \"341.0\"], \n",
    "#  \"41205\": [430, 431, 434, 436, 340, 332, 290, 341],\n",
    "#  \"41202\": [\"I60\", \"I61\", \"I63\", \"I64\", \"G35\", \"G20\", \"F00\", \"F01\", \"F02\", \"F03\", \n",
    "#            \"G30\", \"G31\", \"G32\", \"Block G30-G32\", \"G36\", \"G37\"], \n",
    "#  \"41204\": [\"I60\", \"I61\", \"I63\", \"I64\", \"G35\", \"G20\", \"F00\", \"F01\", \"F02\", \"F03\", \n",
    "#            \"G30\", \"G31\", \"G32\", \"Block G30-G32\", \"G36\", \"G37\"], \n",
    " '41202_41204_41270': full_target_list, \n",
    " }"
   ]
  },
  {
   "cell_type": "code",
   "execution_count": null,
   "metadata": {},
   "outputs": [],
   "source": [
    "# #  ----------------------------------------------\n",
    "# # we use the following code to find out the relavant the columns in metadata, to reduce the memory needed.\n",
    "# selected_col = []\n",
    "# all_col = list(metadata.columns)\n",
    "# disease_fields = ['20002', '41203', '41205', '41202', '41204', '41270']\n",
    "\n",
    "# for field in disease_fields:\n",
    "#     # target_cols = [(idx, col) for idx, col in enumerate(all_col) if field in col]\n",
    "#     kept_cols = [col for col in (all_col) if field in col]\n",
    "#     selected_col.extend(kept_cols)\n",
    "\n",
    "# with open(os.path.join(root_path, \"data\\\\metadata\\\\target_col_idx.pickle\"), 'wb') as f:\n",
    "#     pickle.dump(selected_col, f)\n",
    "# #  ----------------------------------------------"
   ]
  },
  {
   "cell_type": "code",
   "execution_count": null,
   "metadata": {},
   "outputs": [],
   "source": [
    "def is_included(l1, l2):\n",
    "    # This function return True if any element of l1 is included in l2, else False\n",
    "    for i in l1:\n",
    "        if i in l2:\n",
    "            return True\n",
    "    return False"
   ]
  },
  {
   "cell_type": "code",
   "execution_count": null,
   "metadata": {},
   "outputs": [],
   "source": [
    "all_col = list(metadata.columns)\n",
    "metadata_concate = pd.DataFrame(index=metadata.index)\n",
    "metadata_concate[\"is_selected\"] = True # if the participant will be selected\n",
    "\n",
    "for field in disease_dict.keys():\n",
    "    print(field)\n",
    "    \n",
    "    if len(field) > 5: # for the fields share the same coding\n",
    "        all_fields = field.split(\"_\")\n",
    "        target_fields = []\n",
    "        for f in all_fields:\n",
    "            target_fields.extend([col for col in all_col if f in col])\n",
    "    else:\n",
    "        target_fields = [col for col in all_col if field in col]\n",
    "        \n",
    "    # concatenate the cols under the same field to a list, and drop NAN\n",
    "    combined_str = metadata[target_fields].apply(\n",
    "                    lambda x: ','.join(x.dropna().astype(str)),\n",
    "                    axis=1)\n",
    "    # print(combined_str)\n",
    "    list_disease = combined_str.apply(lambda x: x.split(\",\"))\n",
    "    metadata_concate[field] = combined_str.apply(lambda x: x.split(\",\"))\n",
    "    \n",
    "    # # concate all the target disease\n",
    "    # all_disease = \"\".join(str(i)+\"|\" for i in disease_dict[field])\n",
    "    # all_disease = all_disease[:-1]\n",
    "    \n",
    "    # # the person is tagged as unhealthy if any of the target diseases exist.\n",
    "    # is_healthy = ~metadata_concate[field].str.contains(all_disease)\n",
    "    \n",
    "    # we exclude the participant if he/she has any of the target diseases.\n",
    "    is_healthy = ~metadata_concate[field].apply(lambda x: is_included(l1=x, l2=disease_dict[field]))\n",
    "    print(is_healthy.sum())\n",
    "    metadata_concate[\"based_on_\"+field] = is_healthy\n",
    "    metadata_concate[\"is_selected\"] = metadata_concate[\"is_selected\"] & metadata_concate[\"based_on_\"+field]\n",
    "    print(metadata_concate[\"is_selected\"].sum())\n",
    "    \n",
    "print(metadata_concate)\n",
    "# metadata = metadata[selected_col]"
   ]
  },
  {
   "cell_type": "code",
   "execution_count": null,
   "metadata": {},
   "outputs": [],
   "source": [
    "metadata_concate[metadata_concate[\"is_selected\"] == False]"
   ]
  },
  {
   "cell_type": "code",
   "execution_count": null,
   "metadata": {},
   "outputs": [],
   "source": [
    "metadata_concate.to_csv(os.path.join(root_path, \"data/metadata/metadata_concate.csv\"))"
   ]
  },
  {
   "cell_type": "code",
   "execution_count": null,
   "metadata": {},
   "outputs": [],
   "source": []
  }
 ],
 "metadata": {
  "kernelspec": {
   "display_name": "Python 3",
   "language": "python",
   "name": "python3"
  },
  "language_info": {
   "codemirror_mode": {
    "name": "ipython",
    "version": 3
   },
   "file_extension": ".py",
   "mimetype": "text/x-python",
   "name": "python",
   "nbconvert_exporter": "python",
   "pygments_lexer": "ipython3",
   "version": "3.9.13"
  },
  "orig_nbformat": 4,
  "vscode": {
   "interpreter": {
    "hash": "df25935b99ec2a4cd8586e5ce280559874741e178bd8136094667422bad848bb"
   }
  }
 },
 "nbformat": 4,
 "nbformat_minor": 2
}
