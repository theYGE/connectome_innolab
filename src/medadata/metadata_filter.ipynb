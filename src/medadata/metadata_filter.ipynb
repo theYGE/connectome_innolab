{
 "cells": [
  {
   "cell_type": "code",
   "execution_count": null,
   "metadata": {},
   "outputs": [],
   "source": [
    "import pandas as pd\n",
    "import numpy as np\n",
    "import os\n",
    "import sys\n",
    "import pickle"
   ]
  },
  {
   "cell_type": "code",
   "execution_count": null,
   "metadata": {},
   "outputs": [],
   "source": [
    "# \"53-0.0\": first day of attending \n",
    "# 31-0.0: gender\n",
    "# 34-0.0: year of birth\n",
    "# 845-1.0\t845-2.0: age completed full time education\n",
    "# 6138: QUALIFICATION\n"
   ]
  },
  {
   "cell_type": "code",
   "execution_count": null,
   "metadata": {},
   "outputs": [],
   "source": [
    "root_path = os.path.join(os.path.dirname(os.path.dirname(os.getcwd())))\n",
    "\n",
    "with open(os.path.join(root_path, \"data\\\\metadata\\\\target_col_idx.pickle\"), 'rb') as f:\n",
    "    target_col_idx = pickle.load(f)\n",
    "\n",
    "target_col_idx.append(\"eid\")\n",
    "\n",
    "metadata = pd.read_csv(os.path.join(root_path, \"data/metadata/metadata_subset.csv\"), usecols=target_col_idx)\n",
    "metadata.set_index(\"eid\", inplace=True)\n",
    "# data_coding = pd.read_csv(os.path.join(root_path, \"data/metadata/Codings.csv\"), \n",
    "#                           encoding='latin-1')\n",
    "# data_dict = pd.read_csv(os.path.join(root_path, \"data/metadata/Data_Dictionary_Showcase.csv\"))"
   ]
  },
  {
   "cell_type": "code",
   "execution_count": null,
   "metadata": {},
   "outputs": [],
   "source": [
    "disease_dict = { \n",
    "# FieldID: Coding\n",
    " \"20002\": [1081, 1086, 1491, 1583, 1261, 1262, 1263, 1397], \n",
    " \"41203\": [430, 431, 434, 436, 340, 332, 290, 341], \n",
    " \"41205\": [430, 431, 434, 436, 340, 332, 290, 341],\n",
    " \"41202\": [\"I60\", \"I61\", \"I63\", \"I64\", \"G35\", \"G20\", \"F00\", \"F01\", \"F02\", \"F03\", \n",
    "           \"G30\", \"G31\", \"G32\", \"Block G30-G32\", \"G36\", \"G37\"], \n",
    " \"41204\": [\"I60\", \"I61\", \"I63\", \"I64\", \"G35\", \"G20\", \"F00\", \"F01\", \"F02\", \"F03\", \n",
    "           \"G30\", \"G31\", \"G32\", \"Block G30-G32\", \"G36\", \"G37\"], \n",
    " }"
   ]
  },
  {
   "cell_type": "code",
   "execution_count": null,
   "metadata": {},
   "outputs": [],
   "source": [
    "# selected_col = []\n",
    "# all_col = list(metadata.columns)\n",
    "\n",
    "# for field in disease_dict.keys():\n",
    "#     # target_cols = [(idx, col) for idx, col in enumerate(all_col) if field in col]\n",
    "#     target_cols = [col for col in (all_col) if field in col]\n",
    "#     selected_col.extend(target_cols)\n",
    "\n",
    "# with open(os.path.join(root_path, \"data\\\\metadata\\\\target_col_idx.pickle\"), 'wb') as f:\n",
    "#     pickle.dump(selected_col, f)"
   ]
  },
  {
   "cell_type": "code",
   "execution_count": null,
   "metadata": {},
   "outputs": [],
   "source": [
    "all_col = list(metadata.columns)\n",
    "# selected_col = []\n",
    "metadata_concate = pd.DataFrame(index=metadata.index)\n",
    "metadata_concate[\"is_selected\"] = True\n",
    "\n",
    "for field in disease_dict.keys():\n",
    "    target_cols = [col for col in all_col if field in col]\n",
    "    # concatenate the cols under the same field\n",
    "    metadata_concate[field] = metadata[target_cols].apply(\n",
    "    lambda x: ','.join(x.dropna().astype(str)),\n",
    "    axis=1)\n",
    "    \n",
    "    # concate all the target disease\n",
    "    all_disease = \"\".join(str(i)+\"|\" for i in disease_dict[field])\n",
    "    all_disease = all_disease[:-1]\n",
    "    \n",
    "    # the person is tagged as unhealthy if any of the target diseases exist.\n",
    "    is_healthy = ~metadata_concate[field].str.contains(all_disease)\n",
    "    metadata_concate[\"is_selected\"] = metadata_concate[\"is_selected\"] & is_healthy\n",
    "metadata_concate\n",
    "# metadata = metadata[selected_col]"
   ]
  },
  {
   "cell_type": "code",
   "execution_count": null,
   "metadata": {},
   "outputs": [],
   "source": [
    "metadata_concate[metadata_concate[\"is_selected\"] == False]"
   ]
  },
  {
   "cell_type": "code",
   "execution_count": null,
   "metadata": {},
   "outputs": [],
   "source": []
  }
 ],
 "metadata": {
  "kernelspec": {
   "display_name": "Python 3",
   "language": "python",
   "name": "python3"
  },
  "language_info": {
   "codemirror_mode": {
    "name": "ipython",
    "version": 3
   },
   "file_extension": ".py",
   "mimetype": "text/x-python",
   "name": "python",
   "nbconvert_exporter": "python",
   "pygments_lexer": "ipython3",
   "version": "3.9.13"
  },
  "orig_nbformat": 4,
  "vscode": {
   "interpreter": {
    "hash": "df25935b99ec2a4cd8586e5ce280559874741e178bd8136094667422bad848bb"
   }
  }
 },
 "nbformat": 4,
 "nbformat_minor": 2
}
